{
 "cells": [
  {
   "cell_type": "markdown",
   "metadata": {},
   "source": [
    "# Лабораторная работа по модулю “Python для анализа данных”"
   ]
  },
  {
   "cell_type": "markdown",
   "metadata": {},
   "source": [
    "## Задание 1.1"
   ]
  },
  {
   "cell_type": "markdown",
   "metadata": {},
   "source": [
    "*Дан произвольный список, содержащий только числа. Выведите результат сложения всех чисел больше 10.*"
   ]
  },
  {
   "cell_type": "code",
   "execution_count": 1,
   "metadata": {},
   "outputs": [
    {
     "data": {
      "text/plain": [
       "32"
      ]
     },
     "execution_count": 1,
     "metadata": {},
     "output_type": "execute_result"
    }
   ],
   "source": [
    "def sum_more_10(inp_list):\n",
    "    return sum(dig for dig in inp_list if dig > 10)\n",
    "\n",
    "sum_more_10([1, 3, 11, 21])"
   ]
  },
  {
   "cell_type": "markdown",
   "metadata": {},
   "source": [
    "## Задание 1.2"
   ]
  },
  {
   "cell_type": "markdown",
   "metadata": {},
   "source": [
    "*Пусть задан список, содержащий строки. Выведите все строки, заканчивающиеся буквой r.*"
   ]
  },
  {
   "cell_type": "code",
   "execution_count": 2,
   "metadata": {},
   "outputs": [
    {
     "name": "stdout",
     "output_type": "stream",
     "text": [
      "wqr\n",
      "dwdr\n"
     ]
    },
    {
     "data": {
      "text/plain": [
       "True"
      ]
     },
     "execution_count": 2,
     "metadata": {},
     "output_type": "execute_result"
    }
   ],
   "source": [
    "def strings_ended_by_r(inp_list):\n",
    "    for list_str in inp_list:\n",
    "        if list_str[-1] == 'r':\n",
    "            print(list_str)\n",
    "    return True\n",
    "\n",
    "strings_ended_by_r(['qwdqw', 'wqr', 'dwdr'])"
   ]
  },
  {
   "cell_type": "markdown",
   "metadata": {},
   "source": [
    "## Задание 1.3"
   ]
  },
  {
   "cell_type": "markdown",
   "metadata": {},
   "source": [
    "*Сгенерируйте и выведите cлучайную строку размером 6 символов, содержащую только цифры. Строка должна содержать хотя бы одну цифру 3.*"
   ]
  },
  {
   "cell_type": "code",
   "execution_count": 3,
   "metadata": {},
   "outputs": [
    {
     "data": {
      "text/plain": [
       "'835739'"
      ]
     },
     "execution_count": 3,
     "metadata": {},
     "output_type": "execute_result"
    }
   ],
   "source": [
    "import random\n",
    "from random import randint\n",
    "\n",
    "def gen_str_with_3():    \n",
    "    gen_str = str(randint(10000, 99999)) + '3' # диапазон randint включает оба края\n",
    "    gen_str = ''.join(random.sample(gen_str,len(gen_str)))\n",
    "    \n",
    "    return gen_str\n",
    "\n",
    "gen_str_with_3()"
   ]
  },
  {
   "cell_type": "markdown",
   "metadata": {},
   "source": [
    "## Задание 1.4"
   ]
  },
  {
   "cell_type": "markdown",
   "metadata": {},
   "source": [
    "*Пусть дана строка произвольной длины. Выведите информацию о том, сколько в ней символов и сколько слов.*"
   ]
  },
  {
   "cell_type": "code",
   "execution_count": 4,
   "metadata": {},
   "outputs": [
    {
     "name": "stdout",
     "output_type": "stream",
     "text": [
      "Слов: 10 \n",
      "Служебных символов (не считая пробелов): 3\n"
     ]
    },
    {
     "data": {
      "text/plain": [
       "True"
      ]
     },
     "execution_count": 4,
     "metadata": {},
     "output_type": "execute_result"
    }
   ],
   "source": [
    "import string\n",
    "\n",
    "def check_sym_words(inp_str):\n",
    "    \n",
    "    word_count = 0\n",
    "    sym_count = 0\n",
    "    \n",
    "    for word in inp_str.split():\n",
    "        if (word.translate(str.maketrans('', '', string.punctuation))).isalpha():\n",
    "            word_count += 1\n",
    "            \n",
    "    for ch in string.punctuation:\n",
    "        sym_count += inp_str.count(ch)\n",
    "        \n",
    "    print ('Слов: %d \\nСлужебных символов (не считая пробелов): %d' % (word_count, sym_count)) \n",
    "    \n",
    "    return True\n",
    "\n",
    "check_sym_words('Lorem ipsum dolor sit amet, consectetur adipiscing elit. Proin luctus.')"
   ]
  },
  {
   "cell_type": "markdown",
   "metadata": {},
   "source": [
    "## Задание 2.1"
   ]
  },
  {
   "cell_type": "markdown",
   "metadata": {},
   "source": [
    "*Пусть дана матрица чисел размером NхN. Представьте данную матрицу в виде списка. Выведите результат сложения всех элементов матрицы.*"
   ]
  },
  {
   "cell_type": "code",
   "execution_count": 5,
   "metadata": {},
   "outputs": [
    {
     "name": "stdout",
     "output_type": "stream",
     "text": [
      "[1, 2, 3, 4, 5, 6, 7, 8, 9]\n"
     ]
    },
    {
     "data": {
      "text/plain": [
       "45"
      ]
     },
     "execution_count": 5,
     "metadata": {},
     "output_type": "execute_result"
    }
   ],
   "source": [
    "# незачем использовать numpy в этой задаче, т.к. все равно придется осуществить перевод в список\n",
    "\n",
    "def sum_matr(inp_matr):\n",
    "    \n",
    "    exp_matr = [item for matr_row in inp_matr for item in matr_row]\n",
    "    print(exp_matr)\n",
    "    \n",
    "    return(sum(exp_matr))\n",
    "\n",
    "sum_matr([[1, 2, 3], [4, 5, 6], [7, 8, 9]])"
   ]
  },
  {
   "cell_type": "markdown",
   "metadata": {},
   "source": [
    "## Задание 2.2"
   ]
  },
  {
   "cell_type": "markdown",
   "metadata": {},
   "source": [
    "*Дана матрица размером NxM. Напишите алгоритм вычисления максимума из сумм элементов каждого столбца.*"
   ]
  },
  {
   "cell_type": "code",
   "execution_count": 6,
   "metadata": {},
   "outputs": [],
   "source": [
    "def max_sum_matr(inp_matr): # без numpy\n",
    "    \n",
    "    max_sum = None # мы не знаем ОДЗ элементов матрицы\n",
    "    \n",
    "    for i in range(len(inp_matr[0])): # не pythonic way, но в данной ситуации так проще\n",
    "        \n",
    "        temp_sum = 0\n",
    "        \n",
    "        for el in inp_matr:\n",
    "            temp_sum += el[i]\n",
    "            \n",
    "        if not max_sum or max_sum < temp_sum:\n",
    "            max_sum = temp_sum\n",
    "            \n",
    "    return max_sum"
   ]
  },
  {
   "cell_type": "code",
   "execution_count": 7,
   "metadata": {},
   "outputs": [],
   "source": [
    "import numpy as np\n",
    "\n",
    "def np_max_sum_matr(inp_matr): # с numpy\n",
    "    \n",
    "    matr = np.matrix(inp_matr)\n",
    "    \n",
    "    return matr.sum(axis=0).max()"
   ]
  },
  {
   "cell_type": "code",
   "execution_count": 8,
   "metadata": {},
   "outputs": [
    {
     "name": "stdout",
     "output_type": "stream",
     "text": [
      "21\n",
      "21\n"
     ]
    }
   ],
   "source": [
    "print(max_sum_matr([[1, 2, 3, 4], [4, 5, 6, 7], [7, 8, 9, 10]])) # в задаче не указан формат ввода\n",
    "print(np_max_sum_matr([[1, 2, 3, 4], [4, 5, 6, 7], [7, 8, 9, 10]]))"
   ]
  },
  {
   "cell_type": "markdown",
   "metadata": {},
   "source": [
    "## Задание 3.1"
   ]
  },
  {
   "cell_type": "markdown",
   "metadata": {},
   "source": [
    "*Пусть список студентов представлен в виде структуры [[No, ФИО, Возраст,Группа],[No, ФИО, Возраст, Группа],[No, ФИО, Возраст, Группа]]. Преобразуйте список в словарь вида: {No: [ФИО, Возраст, Группа], No:[....], No: [....]}*"
   ]
  },
  {
   "cell_type": "code",
   "execution_count": 9,
   "metadata": {},
   "outputs": [],
   "source": [
    "def student_list_to_dict(students_list):\n",
    "    \n",
    "    students_dict = {}\n",
    "    \n",
    "    for student in students_list:\n",
    "        students_dict[student[0]] = student[1:]\n",
    "               \n",
    "    return students_dict"
   ]
  },
  {
   "cell_type": "code",
   "execution_count": 10,
   "metadata": {},
   "outputs": [
    {
     "name": "stdout",
     "output_type": "stream",
     "text": [
      "{1: ['Иванов И.В.', 21, 'А3'], 2: ['Петров И.И.', 20, 'А3'], 3: ['Сидоров В.В.', 19, 'А2']}\n"
     ]
    }
   ],
   "source": [
    "students = student_list_to_dict([[1, 'Иванов И.В.', 21, 'А3'],[2, 'Петров И.И.', 20, 'А3'],[3, 'Сидоров В.В.', 19, 'А2']])\n",
    "\n",
    "print(students)"
   ]
  },
  {
   "cell_type": "markdown",
   "metadata": {},
   "source": [
    "## Задание 3.2"
   ]
  },
  {
   "cell_type": "markdown",
   "metadata": {},
   "source": [
    "*Напишите алгоритм, позволяющий найти запись в словаре из задачи 3.1 (без преобразования словаря обратно в список) по фамилии и изменить в ней номер группы. Фамилию и новый номер группы необходимо ввести с клавиатуры.*"
   ]
  },
  {
   "cell_type": "code",
   "execution_count": 11,
   "metadata": {},
   "outputs": [],
   "source": [
    "def find_student(students_dict, surname):\n",
    "     \n",
    "    for student_no in students_dict.keys():\n",
    "        if surname.strip() in students_dict[student_no][0]:\n",
    "            return student_no\n",
    "               \n",
    "    return False"
   ]
  },
  {
   "cell_type": "code",
   "execution_count": 12,
   "metadata": {},
   "outputs": [],
   "source": [
    "def change_student_group(students_dict, st_num_input):\n",
    "     \n",
    "    gr_num = input('Введите номер группы: ')\n",
    "    students_dict[st_num_input][2] = gr_num\n",
    "               \n",
    "    return"
   ]
  },
  {
   "cell_type": "code",
   "execution_count": 13,
   "metadata": {
    "scrolled": true
   },
   "outputs": [
    {
     "name": "stdout",
     "output_type": "stream",
     "text": [
      "{1: ['Иванов И.В.', 21, 'А3'], 2: ['Петров И.И.', 20, 'А3'], 3: ['Сидоров В.В.', 19, 'А2']}\n",
      "Введите фамилию студента: Иванов\n",
      "Студент найден.\n",
      "Введите номер группы: А5\n",
      "{1: ['Иванов И.В.', 21, 'А5'], 2: ['Петров И.И.', 20, 'А3'], 3: ['Сидоров В.В.', 19, 'А2']}\n"
     ]
    }
   ],
   "source": [
    "print(students)\n",
    "\n",
    "st_num = find_student(students, input('Введите фамилию студента: '))\n",
    "\n",
    "if st_num:\n",
    "    print('Студент найден.')\n",
    "    change_student_group(students, st_num)\n",
    "    print(students)\n",
    "else:\n",
    "    print('Студент не найден!')"
   ]
  },
  {
   "cell_type": "markdown",
   "metadata": {},
   "source": [
    "## Задание 3.3"
   ]
  },
  {
   "cell_type": "markdown",
   "metadata": {},
   "source": [
    "*Напишите алгоритм, позволяющий аналогично задаче 3.2 изменить возраст студента*"
   ]
  },
  {
   "cell_type": "code",
   "execution_count": 16,
   "metadata": {},
   "outputs": [],
   "source": [
    "def change_student_age(students_dict, st_num_input):\n",
    "    \n",
    "    st_age = input('Введите возраст студента: ')\n",
    "    students_dict[st_num_input][1] = int(st_age)\n",
    "               \n",
    "    return"
   ]
  },
  {
   "cell_type": "code",
   "execution_count": 18,
   "metadata": {
    "scrolled": true
   },
   "outputs": [
    {
     "name": "stdout",
     "output_type": "stream",
     "text": [
      "{1: ['Иванов И.В.', 21, 'А5'], 2: ['Петров И.И.', 22, 'А3'], 3: ['Сидоров В.В.', 19, 'А2']}\n",
      "Введите фамилию студента: Петров\n",
      "Студент найден.\n",
      "Введите возраст студента: 21\n",
      "{1: ['Иванов И.В.', 21, 'А5'], 2: ['Петров И.И.', 21, 'А3'], 3: ['Сидоров В.В.', 19, 'А2']}\n"
     ]
    }
   ],
   "source": [
    "print(students)\n",
    "\n",
    "st_num = find_student(students, input('Введите фамилию студента: '))\n",
    "\n",
    "if st_num:\n",
    "    print('Студент найден.')\n",
    "    change_student_age(students, st_num)\n",
    "    print(students)\n",
    "else:\n",
    "    print('Студент не найден!')"
   ]
  }
 ],
 "metadata": {
  "kernelspec": {
   "display_name": "Python 3",
   "language": "python",
   "name": "python3"
  },
  "language_info": {
   "codemirror_mode": {
    "name": "ipython",
    "version": 3
   },
   "file_extension": ".py",
   "mimetype": "text/x-python",
   "name": "python",
   "nbconvert_exporter": "python",
   "pygments_lexer": "ipython3",
   "version": "3.6.7"
  }
 },
 "nbformat": 4,
 "nbformat_minor": 2
}
