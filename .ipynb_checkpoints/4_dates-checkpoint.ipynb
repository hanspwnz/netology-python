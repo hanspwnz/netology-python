{
 "cells": [
  {
   "cell_type": "markdown",
   "metadata": {},
   "source": [
    "# Занятие 4. «Работа с датами в Python»"
   ]
  },
  {
   "cell_type": "markdown",
   "metadata": {},
   "source": [
    "## Задание 1"
   ]
  },
  {
   "cell_type": "markdown",
   "metadata": {},
   "source": [
    "*Напишите функцию date_range, которая возвращает список дней между датами start_date и end_date. Даты должны вводиться в формате YYYY-MM-DD.*"
   ]
  },
  {
   "cell_type": "code",
   "execution_count": 10,
   "metadata": {},
   "outputs": [
    {
     "data": {
      "text/plain": [
       "['2017-01-02',\n",
       " '2017-01-03',\n",
       " '2017-01-04',\n",
       " '2017-01-05',\n",
       " '2017-01-06',\n",
       " '2017-01-07',\n",
       " '2017-01-08',\n",
       " '2017-01-09',\n",
       " '2017-01-10',\n",
       " '2017-01-11',\n",
       " '2017-01-12',\n",
       " '2017-01-13',\n",
       " '2017-01-14',\n",
       " '2017-01-15',\n",
       " '2017-01-16',\n",
       " '2017-01-17',\n",
       " '2017-01-18',\n",
       " '2017-01-19',\n",
       " '2017-01-20',\n",
       " '2017-01-21',\n",
       " '2017-01-22',\n",
       " '2017-01-23',\n",
       " '2017-01-24',\n",
       " '2017-01-25',\n",
       " '2017-01-26',\n",
       " '2017-01-27',\n",
       " '2017-01-28',\n",
       " '2017-01-29',\n",
       " '2017-01-30',\n",
       " '2017-01-31',\n",
       " '2017-02-01']"
      ]
     },
     "execution_count": 10,
     "metadata": {},
     "output_type": "execute_result"
    }
   ],
   "source": [
    "import datetime\n",
    "from datetime import datetime as dt\n",
    "\n",
    "def date_range(start_date, end_date):\n",
    "    # начальная и конечная дата не включены в диапазон\n",
    "    # значение на выходе - список дат в формате \"YYYY-MM-DD\"\n",
    "    \n",
    "    dt_start_date = dt.strptime(start_date, '%Y-%m-%d')\n",
    "    dt_end_date = dt.strptime(end_date, '%Y-%m-%d')\n",
    "    \n",
    "    date_list = [(dt_start_date + datetime.timedelta(days=x)).strftime('%Y-%m-%d') \n",
    "                 for x in range(1, (dt_end_date-dt_start_date).days)]\n",
    "    \n",
    "    return(date_list)\n",
    "\n",
    "date_range('2017-01-01','2017-02-02')"
   ]
  },
  {
   "cell_type": "markdown",
   "metadata": {},
   "source": [
    "## Задание 2"
   ]
  },
  {
   "cell_type": "markdown",
   "metadata": {},
   "source": [
    "*Дополните функцию из первого задания проверкой на корректность дат. В случае неверного формата или если start_date > end_date должен возвращаться пустой список.*"
   ]
  },
  {
   "cell_type": "code",
   "execution_count": 13,
   "metadata": {},
   "outputs": [
    {
     "data": {
      "text/plain": [
       "[]"
      ]
     },
     "execution_count": 13,
     "metadata": {},
     "output_type": "execute_result"
    }
   ],
   "source": [
    "import datetime\n",
    "from datetime import datetime as dt\n",
    "\n",
    "def date_range(start_date, end_date):\n",
    "    # начальная и конечная дата не включены в диапазон\n",
    "    # значение на выходе - список дат в формате \"YYYY-MM-DD\"\n",
    "    try:\n",
    "        dt_start_date = dt.strptime(start_date, '%Y-%m-%d')\n",
    "        dt_end_date = dt.strptime(end_date, '%Y-%m-%d')\n",
    "        \n",
    "        if (dt_start_date > dt_end_date):\n",
    "            return([])\n",
    "    \n",
    "        date_list = [(dt_start_date + datetime.timedelta(days=x)).strftime('%Y-%m-%d') \n",
    "                     for x in range(1, (dt_end_date-dt_start_date).days)]\n",
    "    except:\n",
    "        return([])\n",
    "    \n",
    "    return(date_list)\n",
    "\n",
    "date_range('2017-01-','2017-01-02')"
   ]
  },
  {
   "cell_type": "markdown",
   "metadata": {},
   "source": [
    "## Задание 3"
   ]
  },
  {
   "cell_type": "markdown",
   "metadata": {},
   "source": [
    "*Дан поток дат в формате YYYY-MM-DD, в которых встречаются некорректные значения. Напишите функцию, которая проверяет эти даты на корректность. Т. е. для каждой даты возвращает True (дата корректна) или False (некорректная дата).*"
   ]
  },
  {
   "cell_type": "code",
   "execution_count": 16,
   "metadata": {},
   "outputs": [
    {
     "data": {
      "text/plain": [
       "[True, False, False]"
      ]
     },
     "execution_count": 16,
     "metadata": {},
     "output_type": "execute_result"
    }
   ],
   "source": [
    "def check_data(input_data):\n",
    "    try:\n",
    "        dt.strptime(input_data, '%Y-%m-%d')\n",
    "    except:\n",
    "        return(False)\n",
    "    \n",
    "    return(True)\n",
    "\n",
    "stream = ['2018-04-02', '2018-02-29', '2018-19-02']\n",
    "\n",
    "list(map(check_data, stream))"
   ]
  },
  {
   "cell_type": "markdown",
   "metadata": {},
   "source": [
    "## Задание 4"
   ]
  },
  {
   "cell_type": "markdown",
   "metadata": {},
   "source": [
    "*Напишите функцию, которая возвращает список дат с 1 по вчерашний день текущего месяца. Если дан 1 день месяца, то возвращается список дней прошлого месяца.*"
   ]
  },
  {
   "cell_type": "code",
   "execution_count": 33,
   "metadata": {},
   "outputs": [
    {
     "data": {
      "text/plain": [
       "['2019-05-01',\n",
       " '2019-05-02',\n",
       " '2019-05-03',\n",
       " '2019-05-04',\n",
       " '2019-05-05',\n",
       " '2019-05-06',\n",
       " '2019-05-07',\n",
       " '2019-05-08',\n",
       " '2019-05-09',\n",
       " '2019-05-10',\n",
       " '2019-05-11',\n",
       " '2019-05-12',\n",
       " '2019-05-13',\n",
       " '2019-05-14',\n",
       " '2019-05-15',\n",
       " '2019-05-16',\n",
       " '2019-05-17',\n",
       " '2019-05-18',\n",
       " '2019-05-19',\n",
       " '2019-05-20',\n",
       " '2019-05-21',\n",
       " '2019-05-22']"
      ]
     },
     "execution_count": 33,
     "metadata": {},
     "output_type": "execute_result"
    }
   ],
   "source": [
    "def return_dates():\n",
    "    current_datetime = dt.now() # текущая дата\n",
    "    first_datetime_month = current_datetime.replace(day = 1) # первый день текущего месяца\n",
    "    if current_datetime.day == 1: # если текущая дата - первый день месяца\n",
    "        if not (first_datetime_month.month == 1):\n",
    "              first_datetime_previous_month = first_datetime_month.replace(month=first_datetime_month.month-1)\n",
    "        else:  # переходим через год\n",
    "              first_datetime_previous_month = first_datetime_month.replace(year=first_datetime_month.year-1, month=12)\n",
    "        # формируем список            \n",
    "        date_list = [(first_datetime_previous_month + datetime.timedelta(days = x)).strftime('%Y-%m-%d') \n",
    "                     for x in range(0, (first_datetime_month-first_datetime_previous_month).days)]\n",
    "        return(date_list)\n",
    "    else:\n",
    "        date_list = [(first_datetime_month + datetime.timedelta(days=x)).strftime('%Y-%m-%d') \n",
    "                     for x in range(0, (current_datetime-first_datetime_month).days)]\n",
    "        return(date_list)\n",
    "\n",
    "return_dates()"
   ]
  },
  {
   "cell_type": "code",
   "execution_count": null,
   "metadata": {},
   "outputs": [],
   "source": []
  }
 ],
 "metadata": {
  "kernelspec": {
   "display_name": "Python 3",
   "language": "python",
   "name": "python3"
  },
  "language_info": {
   "codemirror_mode": {
    "name": "ipython",
    "version": 3
   },
   "file_extension": ".py",
   "mimetype": "text/x-python",
   "name": "python",
   "nbconvert_exporter": "python",
   "pygments_lexer": "ipython3",
   "version": "3.6.7"
  }
 },
 "nbformat": 4,
 "nbformat_minor": 2
}
