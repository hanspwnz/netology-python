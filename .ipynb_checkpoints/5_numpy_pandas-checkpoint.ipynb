{
 "cells": [
  {
   "cell_type": "markdown",
   "metadata": {},
   "source": [
    "# Занятие 5. «Python для анализа данных: numpy и scipy»"
   ]
  },
  {
   "cell_type": "markdown",
   "metadata": {},
   "source": [
    "## Задание 1"
   ]
  },
  {
   "cell_type": "markdown",
   "metadata": {},
   "source": [
    "*Создайте numpy array с элементами от числа N до 0 (например, для N = 10 это будет array([9, 8, 7, 6, 5, 4, 3, 2, 1, 0])).*"
   ]
  },
  {
   "cell_type": "code",
   "execution_count": 1,
   "metadata": {},
   "outputs": [
    {
     "data": {
      "text/plain": [
       "array([9, 8, 7, 6, 5, 4, 3, 2, 1, 0])"
      ]
     },
     "execution_count": 1,
     "metadata": {},
     "output_type": "execute_result"
    }
   ],
   "source": [
    "import numpy as np\n",
    "\n",
    "def create_array_n(n):\n",
    "    \n",
    "    return np.arange(n - 1, -1, -1)\n",
    "\n",
    "create_array_n(10)"
   ]
  },
  {
   "cell_type": "markdown",
   "metadata": {},
   "source": [
    "## Задание 2"
   ]
  },
  {
   "cell_type": "markdown",
   "metadata": {},
   "source": [
    "*Создайте диагональную матрицу с элементами от N до 0. Посчитайте сумму ее значений на диагонали.*"
   ]
  },
  {
   "cell_type": "code",
   "execution_count": 2,
   "metadata": {},
   "outputs": [
    {
     "data": {
      "text/plain": [
       "6"
      ]
     },
     "execution_count": 2,
     "metadata": {},
     "output_type": "execute_result"
    }
   ],
   "source": [
    "def create_matrix_n(n):\n",
    "    \n",
    "    return np.diag(np.arange(n - 1, -1, -1))\n",
    "\n",
    "np.trace(create_matrix_n(4))"
   ]
  },
  {
   "cell_type": "markdown",
   "metadata": {},
   "source": [
    "## Задание 3"
   ]
  },
  {
   "cell_type": "markdown",
   "metadata": {},
   "source": [
    "*Скачайте с сайта https://grouplens.org/datasets/movielens/ датасет любого размера. Определите какому фильму было выставлено больше всего оценок 5.0.*"
   ]
  },
  {
   "cell_type": "code",
   "execution_count": 3,
   "metadata": {},
   "outputs": [
    {
     "data": {
      "text/html": [
       "<div>\n",
       "<style scoped>\n",
       "    .dataframe tbody tr th:only-of-type {\n",
       "        vertical-align: middle;\n",
       "    }\n",
       "\n",
       "    .dataframe tbody tr th {\n",
       "        vertical-align: top;\n",
       "    }\n",
       "\n",
       "    .dataframe thead th {\n",
       "        text-align: right;\n",
       "    }\n",
       "</style>\n",
       "<table border=\"1\" class=\"dataframe\">\n",
       "  <thead>\n",
       "    <tr style=\"text-align: right;\">\n",
       "      <th></th>\n",
       "      <th>Total 5.0</th>\n",
       "    </tr>\n",
       "    <tr>\n",
       "      <th>title</th>\n",
       "      <th></th>\n",
       "    </tr>\n",
       "  </thead>\n",
       "  <tbody>\n",
       "    <tr>\n",
       "      <th>Shawshank Redemption, The (1994)</th>\n",
       "      <td>31896</td>\n",
       "    </tr>\n",
       "  </tbody>\n",
       "</table>\n",
       "</div>"
      ],
      "text/plain": [
       "                                  Total 5.0\n",
       "title                                      \n",
       "Shawshank Redemption, The (1994)      31896"
      ]
     },
     "execution_count": 3,
     "metadata": {},
     "output_type": "execute_result"
    }
   ],
   "source": [
    "import pandas as pd\n",
    "\n",
    "movies = pd.read_csv('D:/Downloads/ml-20m/movies.csv')\n",
    "ratings = pd.read_csv('D:/Downloads/ml-20m/ratings.csv')\n",
    "\n",
    "# может, лучше бы было сначала все отфильтровать и посчитать, а потом join-ить (с точки зрения памяти)\n",
    "# потом попробую потестить. В любом случае, время обработки незначительное (10.1 s по %%time)\n",
    "\n",
    "result = pd.merge(movies, ratings, how='right', on=['movieId', 'movieId'])\n",
    "\n",
    "(\n",
    "    result[result.rating == 5.0]\n",
    "    .filter(items=['title', 'rating'])\n",
    "    .groupby('title')\n",
    "    .agg('count')\n",
    "    .rename(columns={'rating':'Total 5.0'})\n",
    "    .sort_values(by='Total 5.0')\n",
    "    .tail(1)\n",
    ")"
   ]
  },
  {
   "cell_type": "markdown",
   "metadata": {},
   "source": [
    "## Задание 4"
   ]
  },
  {
   "cell_type": "markdown",
   "metadata": {},
   "source": [
    "*По данным файла power.csv посчитайте суммарное потребление стран Прибалтики (Латвия, Литва и Эстония) категорий 4, 12 и 21 за период с 2005 по 2010 года. Не учитывайте в расчетах отрицательные значения quantity.*"
   ]
  },
  {
   "cell_type": "code",
   "execution_count": 4,
   "metadata": {
    "scrolled": true
   },
   "outputs": [
    {
     "data": {
      "text/plain": [
       "quantity    240580.0\n",
       "dtype: float64"
      ]
     },
     "execution_count": 4,
     "metadata": {},
     "output_type": "execute_result"
    }
   ],
   "source": [
    "power = pd.read_csv('../power.csv')\n",
    "\n",
    "cond_country = power.country.isin(['Latvia', 'Lithuania', 'Estonia'])\n",
    "cond_category = power.category.isin([4, 12, 21])\n",
    "cond_year = power.year.between(2005, 2010)\n",
    "cond_quantity = power.quantity >= 0\n",
    "mask = cond_country & cond_category & cond_year & cond_quantity\n",
    "\n",
    "(\n",
    "    power[mask]\n",
    "    .filter(items=['quantity'])\n",
    "    .sum()\n",
    ")"
   ]
  },
  {
   "cell_type": "markdown",
   "metadata": {},
   "source": [
    "## Задание 5"
   ]
  },
  {
   "cell_type": "markdown",
   "metadata": {},
   "source": [
    "*Решите систему уравнений:*\n",
    "\n",
    "$$\n",
    "\\begin{cases} 4x + 2y + z = 4 \\\\ x + 3y = 12 \\\\ 5y + 4z = -3\\end{cases}\n",
    "$$"
   ]
  },
  {
   "cell_type": "code",
   "execution_count": 5,
   "metadata": {},
   "outputs": [
    {
     "name": "stdout",
     "output_type": "stream",
     "text": [
      "x = 0.467, y = 3.844, z = -5.556\n"
     ]
    }
   ],
   "source": [
    "coeff = np.array([[4,2,1], [1,3,0], [0,5,4]])\n",
    "val = np.array([4,12,-3])\n",
    "res = list(map(lambda x: round(x, 3), np.linalg.solve(coeff, val)))\n",
    "\n",
    "print('x = ', res[0], ', y = ', res[1], ', z = ', res[2], sep='')"
   ]
  }
 ],
 "metadata": {
  "kernelspec": {
   "display_name": "Python 3",
   "language": "python",
   "name": "python3"
  },
  "language_info": {
   "codemirror_mode": {
    "name": "ipython",
    "version": 3
   },
   "file_extension": ".py",
   "mimetype": "text/x-python",
   "name": "python",
   "nbconvert_exporter": "python",
   "pygments_lexer": "ipython3",
   "version": "3.6.7"
  }
 },
 "nbformat": 4,
 "nbformat_minor": 2
}
