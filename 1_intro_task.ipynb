{
 "cells": [
  {
   "cell_type": "markdown",
   "metadata": {},
   "source": [
    "# Занятие 1"
   ]
  },
  {
   "cell_type": "markdown",
   "metadata": {},
   "source": [
    "*1. Даны 2 строки long_phrase и short_phrase. Напишите код, который проверяет, действительно ли длинная фраза long_phrase длиннее короткой short_phrase. И выводит True или False в зависимости от результата сравнения.*"
   ]
  },
  {
   "cell_type": "code",
   "execution_count": 1,
   "metadata": {},
   "outputs": [],
   "source": [
    "def compare_phrases(long_phrase, short_phrase):\n",
    "    \"\"\"Возвращает результат сравнения предполагаемо длинной и короткой фраз\n",
    "\n",
    "    Входные аргументы:\n",
    "    long_phrase -- предполагаемо длинная фраза\n",
    "    short_phrase -- предполагаемо короткая фраза\n",
    "    \n",
    "    Возвращаемое значение:\n",
    "    True -- предполагаемо длинная фраза длиннее предполагаемо короткой\n",
    "    False -- предполагаемо длинная фраза эквивалентна по длине или короче предполагаемо короткой\n",
    "\n",
    "    \"\"\"\n",
    "    return len (long_phrase) > len (short_phrase)"
   ]
  },
  {
   "cell_type": "code",
   "execution_count": 2,
   "metadata": {},
   "outputs": [
    {
     "name": "stdout",
     "output_type": "stream",
     "text": [
      "True\n"
     ]
    }
   ],
   "source": [
    "long_phrase = 'Насколько проще было бы писать программы, если бы не заказчики'\n",
    "short_phrase = '640Кб должно хватить для любых задач. Билл Гейтс (по легенде)'\n",
    "\n",
    "print(compare_phrases(long_phrase=long_phrase, short_phrase=short_phrase))"
   ]
  },
  {
   "cell_type": "markdown",
   "metadata": {},
   "source": [
    "*2. Дана строка text. Определите какая из двух букв встречается в нем чаще - 'а' или 'и'.*"
   ]
  },
  {
   "cell_type": "code",
   "execution_count": 3,
   "metadata": {},
   "outputs": [],
   "source": [
    "def letters_a_i_count(text):\n",
    "    \"\"\"Возвращает строку с подсчитанным количеством вхождений символов \"а\" и \"и\", а также с более часто\n",
    "    встречающимся символом.\n",
    "\n",
    "    Входные аргументы:\n",
    "    text -- исходная строка\n",
    "\n",
    "    \"\"\"\n",
    "    a_count = 0\n",
    "    i_count = 0\n",
    "    comparison_result = ''\n",
    "    \n",
    "    for current_char in text:\n",
    "        if current_char == 'а':\n",
    "            a_count += 1\n",
    "        if current_char == 'и':\n",
    "            i_count += 1\n",
    "    \n",
    "    if a_count > i_count:\n",
    "        comparison_result = 'Символ \"а\" встречается чаще \"и\".'\n",
    "    elif a_count < i_count:\n",
    "        comparison_result = 'Символ \"и\" встречается чаще \"а\".'\n",
    "    else:\n",
    "        comparison_result = 'Количество символов \"а\" и \"и\" одинаково.'\n",
    "    \n",
    "    comparison_result = 'Cимволов \"а\": ' + str(a_count) + ', cимволов \"и\": ' + str(i_count) + '. ' + comparison_result\n",
    "    return comparison_result"
   ]
  },
  {
   "cell_type": "code",
   "execution_count": 4,
   "metadata": {},
   "outputs": [
    {
     "name": "stdout",
     "output_type": "stream",
     "text": [
      "Cимволов \"а\": 7, cимволов \"и\": 4. Символ \"а\" встречается чаще \"и\".\n"
     ]
    }
   ],
   "source": [
    "text = 'Если программист в 9-00 утра на работе, значит, он там и ночевал'\n",
    "\n",
    "print(letters_a_i_count(text=text))"
   ]
  },
  {
   "cell_type": "markdown",
   "metadata": {},
   "source": [
    "*3. Дано значение объема файла в байтах. Напишите перевод этого значения в мегабайты в формате:\n",
    "'Объем файла равен 213.68Mb'*"
   ]
  },
  {
   "cell_type": "code",
   "execution_count": 5,
   "metadata": {},
   "outputs": [],
   "source": [
    "def convert_to_mb(bytes_count):\n",
    "    \"\"\"Возвращает результат перевода байтов в мегабайты в формате 'Объем файла равен <X>Mb'.\n",
    "\n",
    "    Входные аргументы:\n",
    "    bytes_count -- количество байтов в файле\n",
    "\n",
    "    \"\"\"\n",
    "    mb_count = round(bytes_count / (1024 ** 2), 2)\n",
    "    return 'Объем файла равен ' + str(mb_count) + 'Mb'"
   ]
  },
  {
   "cell_type": "code",
   "execution_count": 6,
   "metadata": {},
   "outputs": [
    {
     "name": "stdout",
     "output_type": "stream",
     "text": [
      "Объем файла равен 213.68Mb\n"
     ]
    }
   ],
   "source": [
    "print (convert_to_mb(224059720))"
   ]
  },
  {
   "cell_type": "markdown",
   "metadata": {},
   "source": [
    "*4. Выведите на экран значение синуса 30 градусов с помощью метода math.sin.*"
   ]
  },
  {
   "cell_type": "code",
   "execution_count": 7,
   "metadata": {},
   "outputs": [
    {
     "data": {
      "text/plain": [
       "0.49999999999999994"
      ]
     },
     "execution_count": 7,
     "metadata": {},
     "output_type": "execute_result"
    }
   ],
   "source": [
    "import math\n",
    "math.sin(math.radians(30))"
   ]
  },
  {
   "cell_type": "code",
   "execution_count": 8,
   "metadata": {},
   "outputs": [
    {
     "name": "stdout",
     "output_type": "stream",
     "text": [
      "0.30000000000000004\n",
      "0.3\n"
     ]
    }
   ],
   "source": [
    "print(0.1 + 0.2) #вывод неточен вследствие особенностей представления чисел с плавающей запятой в памяти компьютера\n",
    "\n",
    "print(round(0.1+0.2, 2))"
   ]
  },
  {
   "cell_type": "markdown",
   "metadata": {},
   "source": [
    "*В переменных a и b записаны 2 различных числа. Вам необходимо написать код, который меняет значения a и b местами без использования третьей переменной.*"
   ]
  },
  {
   "cell_type": "code",
   "execution_count": 9,
   "metadata": {},
   "outputs": [
    {
     "name": "stdout",
     "output_type": "stream",
     "text": [
      "a=4, b=5\n"
     ]
    }
   ],
   "source": [
    "a = 5\n",
    "b = 4\n",
    "\n",
    "a = a + b\n",
    "b = a - b\n",
    "a = a - b\n",
    "\n",
    "print('a=', a, ', b=', b, sep=\"\")"
   ]
  },
  {
   "cell_type": "markdown",
   "metadata": {},
   "source": [
    "*Дано число в двоичной системе счисления: num=10011. Напишите алгоритм перевода этого числа в привычную нам десятичную систему счисления.*"
   ]
  },
  {
   "cell_type": "code",
   "execution_count": 10,
   "metadata": {},
   "outputs": [
    {
     "name": "stdout",
     "output_type": "stream",
     "text": [
      "19\n"
     ]
    }
   ],
   "source": [
    "num = 10011\n",
    "num_rest = 0\n",
    "result = 0\n",
    "i = 0\n",
    "\n",
    "while (num > 0):\n",
    "    num_rest = num % 10\n",
    "    result = result + num_rest * (2 ** i)\n",
    "    i += 1\n",
    "    num = num // 10\n",
    "    \n",
    "print (result)"
   ]
  }
 ],
 "metadata": {
  "kernelspec": {
   "display_name": "Python 3",
   "language": "python",
   "name": "python3"
  },
  "language_info": {
   "codemirror_mode": {
    "name": "ipython",
    "version": 3
   },
   "file_extension": ".py",
   "mimetype": "text/x-python",
   "name": "python",
   "nbconvert_exporter": "python",
   "pygments_lexer": "ipython3",
   "version": "3.6.7"
  }
 },
 "nbformat": 4,
 "nbformat_minor": 2
}
